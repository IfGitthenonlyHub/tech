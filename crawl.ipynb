{
 "cells": [
  {
   "cell_type": "markdown",
   "metadata": {},
   "source": [
    "**Số người dùng internet qua các năm**"
   ]
  },
  {
   "cell_type": "code",
   "execution_count": 10,
   "metadata": {},
   "outputs": [
    {
     "name": "stdout",
     "output_type": "stream",
     "text": [
      "      Entity      Code  Year  num_internet_users\n",
      "26    Africa       NaN  1990                   0\n",
      "27    Africa       NaN  1991                5434\n",
      "28    Africa       NaN  1992               16232\n",
      "29    Africa       NaN  1993               48970\n",
      "30    Africa       NaN  1994              112387\n",
      "...      ...       ...   ...                 ...\n",
      "6311   World  OWID_WRL  2016          3256215846\n",
      "6312   World  OWID_WRL  2017          3483746104\n",
      "6313   World  OWID_WRL  2018          3795522333\n",
      "6314   World  OWID_WRL  2019          4194081858\n",
      "6315   World  OWID_WRL  2020          4699886462\n",
      "\n",
      "[214 rows x 4 columns]\n"
     ]
    }
   ],
   "source": [
    "import pandas as pd\n",
    "import requests\n",
    "\n",
    "# Fetch the data.\n",
    "df = pd.read_csv(\"https://ourworldindata.org/grapher/number-of-internet-users.csv?v=1&csvType=full&useColumnShortNames=true\", storage_options = {'User-Agent': 'Our World In Data data fetch/1.0'})\n",
    "# Fetch the metadata\n",
    "metadata = requests.get(\"https://ourworldindata.org/grapher/number-of-internet-users.metadata.json?v=1&csvType=full&useColumnShortNames=true\").json()\n",
    "\n",
    "# Select specific regions\n",
    "regions= ['World', 'Asia', 'Europe', 'North America', 'Africa', 'South America', 'Oceania']\n",
    "# Filter the DataFrame\n",
    "df_continents = df[df['Entity'].isin(regions)]\n",
    "# Print the filtered data to check\n",
    "print(df_continents)"
   ]
  },
  {
   "cell_type": "markdown",
   "metadata": {},
   "source": [
    "**Đầu tư vào lĩnh vực cụ thể liên quan đến AI của thế giới và 1 số nước lớn**"
   ]
  },
  {
   "cell_type": "code",
   "execution_count": 11,
   "metadata": {},
   "outputs": [
    {
     "name": "stdout",
     "output_type": "stream",
     "text": [
      "                               Entity  Code  Year  united_states       world  \\\n",
      "0    AI infrastructure and governance   NaN  2018     21582030.0    32373045   \n",
      "1    AI infrastructure and governance   NaN  2019     84791516.0   233176668   \n",
      "2    AI infrastructure and governance   NaN  2020     31409355.0    62818710   \n",
      "3    AI infrastructure and governance   NaN  2021    180000000.0   490000000   \n",
      "4    AI infrastructure and governance   NaN  2022    657390402.0   759239619   \n",
      "..                                ...   ...   ...            ...         ...   \n",
      "174                   Venture capital   NaN  2019     84791516.0   169583031   \n",
      "175                   Venture capital   NaN  2020    638656889.0   952750441   \n",
      "176                   Venture capital   NaN  2021    850000000.0  1660000000   \n",
      "177                   Venture capital   NaN  2022    138885296.0  1166636488   \n",
      "178                   Venture capital   NaN  2023    204537988.0   453540756   \n",
      "\n",
      "     european_union_and_united_kingdom        china  \n",
      "0                                  NaN          NaN  \n",
      "1                          116588334.0   31796818.0  \n",
      "2                           10469785.0   31409355.0  \n",
      "3                          260000000.0   50000000.0  \n",
      "4                           18518039.0   74072158.0  \n",
      "..                                 ...          ...  \n",
      "174                         31796818.0   10598939.0  \n",
      "175                         10469785.0  251274842.0  \n",
      "176                                0.0   60000000.0  \n",
      "177                         27777059.0          NaN  \n",
      "178                                0.0   88929560.0  \n",
      "\n",
      "[179 rows x 7 columns]\n"
     ]
    }
   ],
   "source": [
    "import pandas as pd\n",
    "import requests\n",
    "\n",
    "# Fetch the data.\n",
    "df = pd.read_csv(\"https://ourworldindata.org/grapher/private-investment-in-artificial-intelligence-by-focus-area.csv?v=1&csvType=full&useColumnShortNames=true\", storage_options = {'User-Agent': 'Our World In Data data fetch/1.0'})\n",
    "# Fetch the metadata\n",
    "metadata = requests.get(\"https://ourworldindata.org/grapher/private-investment-in-artificial-intelligence-by-focus-area.metadata.json?v=1&csvType=full&useColumnShortNames=true\").json()\n",
    "print(df)"
   ]
  },
  {
   "cell_type": "markdown",
   "metadata": {},
   "source": [
    "**Đầu tư của các kiểu tập đoàn vào AI**"
   ]
  },
  {
   "cell_type": "code",
   "execution_count": 3,
   "metadata": {},
   "outputs": [
    {
     "name": "stdout",
     "output_type": "stream",
     "text": [
      "                 Entity  Code  Year         world\n",
      "0    Merger/acquisition   NaN  2013    6885993015\n",
      "1    Merger/acquisition   NaN  2014    7657417878\n",
      "2    Merger/acquisition   NaN  2015   10117764887\n",
      "3    Merger/acquisition   NaN  2016   14733541676\n",
      "4    Merger/acquisition   NaN  2017   27282738436\n",
      "5    Merger/acquisition   NaN  2018   23621531572\n",
      "6    Merger/acquisition   NaN  2019   38611936417\n",
      "7    Merger/acquisition   NaN  2020   40874040917\n",
      "8    Merger/acquisition   NaN  2021  173420000000\n",
      "9    Merger/acquisition   NaN  2022  108478675310\n",
      "10   Merger/acquisition   NaN  2023   71686118250\n",
      "11       Minority stake   NaN  2013    2244926777\n",
      "12       Minority stake   NaN  2014     389166230\n",
      "13       Minority stake   NaN  2015    1349035318\n",
      "14       Minority stake   NaN  2016    1817701310\n",
      "15       Minority stake   NaN  2017    1426042649\n",
      "16       Minority stake   NaN  2018    2168993991\n",
      "17       Minority stake   NaN  2019    2278771982\n",
      "18       Minority stake   NaN  2020   90479882584\n",
      "19       Minority stake   NaN  2021    2110000000\n",
      "20       Minority stake   NaN  2022    7583137170\n",
      "21       Minority stake   NaN  2023    6963184542\n",
      "22   Private investment   NaN  2013    6013612143\n",
      "23   Private investment   NaN  2014   10942438702\n",
      "24   Private investment   NaN  2015   15262391101\n",
      "25   Private investment   NaN  2016   19339890338\n",
      "26   Private investment   NaN  2017   28432416231\n",
      "27   Private investment   NaN  2018   46509274133\n",
      "28   Private investment   NaN  2019   61664629720\n",
      "29   Private investment   NaN  2020   67027564025\n",
      "30   Private investment   NaN  2021  132360000000\n",
      "31   Private investment   NaN  2022   95738264144\n",
      "32   Private investment   NaN  2023   85363484565\n",
      "33      Public offering   NaN  2013    1802920468\n",
      "34      Public offering   NaN  2014    2804286069\n",
      "35      Public offering   NaN  2015    2343663053\n",
      "36      Public offering   NaN  2016    2291884261\n",
      "37      Public offering   NaN  2017    2244082619\n",
      "38      Public offering   NaN  2018   13618260779\n",
      "39      Public offering   NaN  2019    6899909582\n",
      "40      Public offering   NaN  2020   13621190377\n",
      "41      Public offering   NaN  2021   29510000000\n",
      "42      Public offering   NaN  2022    5740592241\n",
      "43      Public offering   NaN  2023    4206368184\n",
      "44                Total   NaN  2013   16947452403\n",
      "45                Total   NaN  2014   21793308879\n",
      "46                Total   NaN  2015   29072854359\n",
      "47                Total   NaN  2016   38183017584\n",
      "48                Total   NaN  2017   59385279935\n",
      "49                Total   NaN  2018   85918060475\n",
      "50                Total   NaN  2019  109455247701\n",
      "51                Total   NaN  2020  212002677904\n",
      "52                Total   NaN  2021  337400000000\n",
      "53                Total   NaN  2022  217540668864\n",
      "54                Total   NaN  2023  168219155540\n"
     ]
    }
   ],
   "source": [
    "import pandas as pd\n",
    "import requests\n",
    "\n",
    "# Fetch the data.\n",
    "df = pd.read_csv(\"https://ourworldindata.org/grapher/corporate-investment-in-artificial-intelligence-by-type.csv?v=1&csvType=full&useColumnShortNames=true\", storage_options = {'User-Agent': 'Our World In Data data fetch/1.0'})\n",
    "# Fetch the metadata\n",
    "metadata = requests.get(\"https://ourworldindata.org/grapher/corporate-investment-in-artificial-intelligence-by-type.metadata.json?v=1&csvType=full&useColumnShortNames=true\").json()\n",
    "print(df)"
   ]
  }
 ],
 "metadata": {
  "kernelspec": {
   "display_name": "Python 3",
   "language": "python",
   "name": "python3"
  },
  "language_info": {
   "codemirror_mode": {
    "name": "ipython",
    "version": 3
   },
   "file_extension": ".py",
   "mimetype": "text/x-python",
   "name": "python",
   "nbconvert_exporter": "python",
   "pygments_lexer": "ipython3",
   "version": "3.13.0"
  }
 },
 "nbformat": 4,
 "nbformat_minor": 2
}
